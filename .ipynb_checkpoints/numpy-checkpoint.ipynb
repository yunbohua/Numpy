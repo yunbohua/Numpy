{
 "cells": [
  {
   "cell_type": "markdown",
   "id": "0393f357",
   "metadata": {},
   "source": [
    "# Introduction"
   ]
  },
  {
   "cell_type": "markdown",
   "id": "73cd8a8a",
   "metadata": {},
   "source": [
    "I've completed courses related to linear algebra and basic statistics. Since I had time to explore more during the summer break, I did quite some practice in python regarding linear algebra, statistics, linear regression, etc., to prepare myself for machine learning classes. I gleaned all the questions I've done (both in python and by hand), singled out the most representative, and compiled them into this document as a tutorial for those new to Jupyter. I hope those who are interested will find this document helpful!<br>\n",
    "\n",
    "This document demonstrates the usage of the most **fundamental functions** involved in matrix operations in numpy and their associated **caveats**.<br>\n",
    "\n",
    "**Table of the content**:<br>\n",
    "\n",
    "&nbsp;&nbsp;&nbsp;1. Introduction (we are here)<br>\n",
    "&nbsp;&nbsp;&nbsp;2. Import numpy<br>\n",
    "&nbsp;&nbsp;&nbsp;3. Broadcasting Example<br>\n",
    "&nbsp;&nbsp;&nbsp;&nbsp;&nbsp;&nbsp;3.1 example 1<br>\n",
    "&nbsp;&nbsp;&nbsp;&nbsp;&nbsp;&nbsp;3.2 example 2<br>\n",
    "&nbsp;&nbsp;&nbsp;&nbsp;&nbsp;&nbsp;3.3 example 3<br>\n",
    "&nbsp;&nbsp;&nbsp;4. matrix in numpy<br>\n",
    "&nbsp;&nbsp;&nbsp;&nbsp;&nbsp;&nbsp;4.1 Transpose<br>\n",
    "&nbsp;&nbsp;&nbsp;&nbsp;&nbsp;&nbsp;4.2 Matrix Multiplication<br>\n",
    "&nbsp;&nbsp;&nbsp;&nbsp;&nbsp;&nbsp;4.3 Matrix-vector multiplication (Ax = b)<br>\n",
    "&nbsp;&nbsp;&nbsp;&nbsp;&nbsp;&nbsp;4.4 Inverse of matrices<br>\n",
    "&nbsp;&nbsp;&nbsp;&nbsp;&nbsp;&nbsp;4.5 Linear regression<br>\n",
    "&nbsp;&nbsp;&nbsp;&nbsp;&nbsp;&nbsp;4.6 Eigenvalues & Eigenvectors<br>\n",
    "&nbsp;&nbsp;&nbsp;5. Descriptive statistics<br>\n",
    "&nbsp;&nbsp;&nbsp;&nbsp;&nbsp;&nbsp;5.1 Mean<br>\n",
    "&nbsp;&nbsp;&nbsp;&nbsp;&nbsp;&nbsp;5.2 Variance<br>\n",
    "&nbsp;&nbsp;&nbsp;&nbsp;&nbsp;&nbsp;5.3 Standard Deviation<br>\n",
    "&nbsp;&nbsp;&nbsp;&nbsp;&nbsp;&nbsp;5.4 Covariance<br>"
   ]
  },
  {
   "cell_type": "markdown",
   "id": "d7777d09",
   "metadata": {},
   "source": [
    "# import numpy\n",
    "Before we do any computation, we have to import the library numpy. We can refer to it as np here."
   ]
  },
  {
   "cell_type": "code",
   "execution_count": 1,
   "id": "c885141f",
   "metadata": {},
   "outputs": [],
   "source": [
    "import numpy as np"
   ]
  },
  {
   "cell_type": "code",
   "execution_count": 2,
   "id": "cb08c9a7",
   "metadata": {},
   "outputs": [],
   "source": [
    "from scipy import stats"
   ]
  },
  {
   "cell_type": "markdown",
   "id": "1f90b1f2",
   "metadata": {},
   "source": [
    "# Broadcasting [concept](https://jakevdp.github.io/PythonDataScienceHandbook/02.05-computation-on-arrays-broadcasting.html)\n",
    "\n",
    "## example 1 \n",
    "addition + and multiplication * in Jupyter Notebook are done elements by elements\n",
    "While x1 is of shape (4,2), x2 is of shape (4,1). x2 will be streched to (4,2) by simply copying the same column vector (4,1)"
   ]
  },
  {
   "cell_type": "code",
   "execution_count": 3,
   "id": "8997d39b",
   "metadata": {},
   "outputs": [],
   "source": [
    "x1 = np.array([[1, 2], [1, 5], [1, 7], [1, 8]])\n",
    "x2 = np.array([[1], [2], [3], [4]])"
   ]
  },
  {
   "cell_type": "code",
   "execution_count": 4,
   "id": "d501c053",
   "metadata": {},
   "outputs": [
    {
     "data": {
      "text/plain": [
       "(4, 2)"
      ]
     },
     "execution_count": 4,
     "metadata": {},
     "output_type": "execute_result"
    }
   ],
   "source": [
    "x1.shape"
   ]
  },
  {
   "cell_type": "code",
   "execution_count": 5,
   "id": "87703267",
   "metadata": {},
   "outputs": [
    {
     "data": {
      "text/plain": [
       "(4, 1)"
      ]
     },
     "execution_count": 5,
     "metadata": {},
     "output_type": "execute_result"
    }
   ],
   "source": [
    "x2.shape"
   ]
  },
  {
   "cell_type": "code",
   "execution_count": 6,
   "id": "7d17123e",
   "metadata": {
    "scrolled": true
   },
   "outputs": [
    {
     "data": {
      "text/plain": [
       "array([[ 1,  2],\n",
       "       [ 2, 10],\n",
       "       [ 3, 21],\n",
       "       [ 4, 32]])"
      ]
     },
     "execution_count": 6,
     "metadata": {},
     "output_type": "execute_result"
    }
   ],
   "source": [
    "x3 = (x1 * x2)\n",
    "x3"
   ]
  },
  {
   "cell_type": "code",
   "execution_count": 7,
   "id": "d1779bbf",
   "metadata": {},
   "outputs": [
    {
     "data": {
      "text/plain": [
       "(4, 2)"
      ]
     },
     "execution_count": 7,
     "metadata": {},
     "output_type": "execute_result"
    }
   ],
   "source": [
    "x3.shape"
   ]
  },
  {
   "cell_type": "markdown",
   "id": "a4957672",
   "metadata": {},
   "source": [
    "## example 2\n",
    "While M is (2,3), a is (3,). When M + a, a would be stretched to first to (1,3), then to (2,3)\n"
   ]
  },
  {
   "cell_type": "code",
   "execution_count": 8,
   "id": "ad0c5a7c",
   "metadata": {},
   "outputs": [
    {
     "data": {
      "text/plain": [
       "array([[1., 1., 1.],\n",
       "       [1., 1., 1.]])"
      ]
     },
     "execution_count": 8,
     "metadata": {},
     "output_type": "execute_result"
    }
   ],
   "source": [
    "M = np.ones((2, 3))\n",
    "M"
   ]
  },
  {
   "cell_type": "code",
   "execution_count": 9,
   "id": "5068cc54",
   "metadata": {},
   "outputs": [
    {
     "data": {
      "text/plain": [
       "(2, 3)"
      ]
     },
     "execution_count": 9,
     "metadata": {},
     "output_type": "execute_result"
    }
   ],
   "source": [
    "M.shape"
   ]
  },
  {
   "cell_type": "code",
   "execution_count": 10,
   "id": "695fef6a",
   "metadata": {},
   "outputs": [
    {
     "data": {
      "text/plain": [
       "array([0, 1, 2])"
      ]
     },
     "execution_count": 10,
     "metadata": {},
     "output_type": "execute_result"
    }
   ],
   "source": [
    "a = np.arange(3)\n",
    "a"
   ]
  },
  {
   "cell_type": "code",
   "execution_count": 11,
   "id": "0958affb",
   "metadata": {},
   "outputs": [
    {
     "data": {
      "text/plain": [
       "(3,)"
      ]
     },
     "execution_count": 11,
     "metadata": {},
     "output_type": "execute_result"
    }
   ],
   "source": [
    "a.shape"
   ]
  },
  {
   "cell_type": "code",
   "execution_count": 12,
   "id": "5cddcafb",
   "metadata": {},
   "outputs": [
    {
     "data": {
      "text/plain": [
       "array([[1., 2., 3.],\n",
       "       [1., 2., 3.]])"
      ]
     },
     "execution_count": 12,
     "metadata": {},
     "output_type": "execute_result"
    }
   ],
   "source": [
    "M + a"
   ]
  },
  {
   "cell_type": "markdown",
   "id": "6efcaa05",
   "metadata": {},
   "source": [
    "## example 3\n",
    "While M is (3,2), a is (3,). When M + a, a would be stretched to first to (1,3), then to (3,3) to match the 3 rows of M. However, after that, M is of shape (3,2) while a is of shape (3,3), which causes a mismatch\n"
   ]
  },
  {
   "cell_type": "code",
   "execution_count": 13,
   "id": "02708ce9",
   "metadata": {},
   "outputs": [
    {
     "data": {
      "text/plain": [
       "array([0, 1, 2])"
      ]
     },
     "execution_count": 13,
     "metadata": {},
     "output_type": "execute_result"
    }
   ],
   "source": [
    "M = np.ones((3, 2))\n",
    "a = np.arange(3)\n",
    "a"
   ]
  },
  {
   "cell_type": "code",
   "execution_count": 14,
   "id": "02f31f5c",
   "metadata": {},
   "outputs": [
    {
     "data": {
      "text/plain": [
       "(3, 2)"
      ]
     },
     "execution_count": 14,
     "metadata": {},
     "output_type": "execute_result"
    }
   ],
   "source": [
    "M.shape"
   ]
  },
  {
   "cell_type": "code",
   "execution_count": 15,
   "id": "14e37a5f",
   "metadata": {},
   "outputs": [
    {
     "data": {
      "text/plain": [
       "(3,)"
      ]
     },
     "execution_count": 15,
     "metadata": {},
     "output_type": "execute_result"
    }
   ],
   "source": [
    "a.shape"
   ]
  },
  {
   "cell_type": "code",
   "execution_count": 16,
   "id": "b783e84e",
   "metadata": {},
   "outputs": [
    {
     "ename": "ValueError",
     "evalue": "operands could not be broadcast together with shapes (3,2) (3,) ",
     "output_type": "error",
     "traceback": [
      "\u001b[0;31m---------------------------------------------------------------------------\u001b[0m",
      "\u001b[0;31mValueError\u001b[0m                                Traceback (most recent call last)",
      "\u001b[0;32m/var/folders/kt/yd3pg7vn42n_11l1r5fnfbzw0000gn/T/ipykernel_8561/3374645918.py\u001b[0m in \u001b[0;36m<module>\u001b[0;34m\u001b[0m\n\u001b[0;32m----> 1\u001b[0;31m \u001b[0mM\u001b[0m \u001b[0;34m+\u001b[0m \u001b[0ma\u001b[0m\u001b[0;34m\u001b[0m\u001b[0;34m\u001b[0m\u001b[0m\n\u001b[0m",
      "\u001b[0;31mValueError\u001b[0m: operands could not be broadcast together with shapes (3,2) (3,) "
     ]
    }
   ],
   "source": [
    "M + a"
   ]
  },
  {
   "cell_type": "markdown",
   "id": "be9d2566",
   "metadata": {},
   "source": [
    "Side note:\n",
    "* When an array was created with only one pair of [ ](for example, you call arange()), the resulted array would be a 1-D array. \n",
    "* You don't have to call the print() function to print any expression out. Instead, you can just call the variable that you declared \n"
   ]
  },
  {
   "cell_type": "markdown",
   "id": "14338608",
   "metadata": {},
   "source": [
    "# matrix in numpy\n",
    "In linear algebra, a vector is considered a special kind of matrix. There are both row vectors and column vectors. Here, a row vector looks almost the same as a 1-D array in numpy. However, all [matrices](https://numpy.org/doc/stable/reference/generated/numpy.matrix.html) are 2-D arrays under numpy. For the sake of clarity and consistency, we distinguish vectors (a special type of matrices -- 2-D arrays) from 1-D arrays."
   ]
  },
  {
   "cell_type": "code",
   "execution_count": null,
   "id": "bfb8be8c",
   "metadata": {},
   "outputs": [],
   "source": [
    "a"
   ]
  },
  {
   "cell_type": "code",
   "execution_count": null,
   "id": "ec2c9c8e",
   "metadata": {},
   "outputs": [],
   "source": [
    "M"
   ]
  },
  {
   "cell_type": "markdown",
   "id": "87176e89",
   "metadata": {},
   "source": [
    "## Transpose"
   ]
  },
  {
   "cell_type": "markdown",
   "id": "30006577",
   "metadata": {},
   "source": [
    "Taking [transpose](https://www.w3resource.com/numpy/manipulation/transpose.php) does not work on 1-D arrays while working on matrices"
   ]
  },
  {
   "cell_type": "code",
   "execution_count": null,
   "id": "291ecd64",
   "metadata": {},
   "outputs": [],
   "source": [
    "a.transpose()"
   ]
  },
  {
   "cell_type": "code",
   "execution_count": null,
   "id": "001902cf",
   "metadata": {},
   "outputs": [],
   "source": [
    "M.transpose()"
   ]
  },
  {
   "cell_type": "code",
   "execution_count": null,
   "id": "fb0faaeb",
   "metadata": {},
   "outputs": [],
   "source": [
    "A = np.matrix(a)\n",
    "A"
   ]
  },
  {
   "cell_type": "markdown",
   "id": "bd7da585",
   "metadata": {},
   "source": [
    "T is a shorthand for transpose()"
   ]
  },
  {
   "cell_type": "code",
   "execution_count": null,
   "id": "e9a37b01",
   "metadata": {},
   "outputs": [],
   "source": [
    "A.T"
   ]
  },
  {
   "cell_type": "markdown",
   "id": "e7e7f4f2",
   "metadata": {},
   "source": [
    "## Matrix Multiplication\n",
    "**in this section, we dissect the nuances between arrays and matrices**\n",
    "\n",
    "To multiply two matrices, use the dot() function of NumPy. It takes only 2 arguments and returns the product of two matrices."
   ]
  },
  {
   "cell_type": "code",
   "execution_count": null,
   "id": "5cbaf412",
   "metadata": {},
   "outputs": [],
   "source": [
    "M"
   ]
  },
  {
   "cell_type": "code",
   "execution_count": null,
   "id": "51f60b67",
   "metadata": {},
   "outputs": [],
   "source": [
    "M.shape"
   ]
  },
  {
   "cell_type": "code",
   "execution_count": null,
   "id": "721e7c78",
   "metadata": {},
   "outputs": [],
   "source": [
    "np.dot(M.T, M)"
   ]
  },
  {
   "cell_type": "markdown",
   "id": "73bce27f",
   "metadata": {},
   "source": [
    "Let's first find out what will happen if we use the binary operator * instead"
   ]
  },
  {
   "cell_type": "code",
   "execution_count": null,
   "id": "050d38eb",
   "metadata": {},
   "outputs": [],
   "source": [
    "M * M"
   ]
  },
  {
   "cell_type": "markdown",
   "id": "f59b8c92",
   "metadata": {},
   "source": [
    "Why is it still M?"
   ]
  },
  {
   "cell_type": "markdown",
   "id": "c1d4978d",
   "metadata": {},
   "source": [
    "Remeber * is done element-by-element"
   ]
  },
  {
   "cell_type": "markdown",
   "id": "77769e69",
   "metadata": {},
   "source": [
    "However, how about the legit matrix multiplication?"
   ]
  },
  {
   "cell_type": "code",
   "execution_count": null,
   "id": "92c12f89",
   "metadata": {},
   "outputs": [],
   "source": [
    "np.dot(M, M)"
   ]
  },
  {
   "cell_type": "markdown",
   "id": "f1578b4b",
   "metadata": {},
   "source": [
    "It turns out it does not work. But why?"
   ]
  },
  {
   "cell_type": "markdown",
   "id": "309b79a5",
   "metadata": {},
   "source": [
    "Here, dot() is not done element-by-element. Instead, it abides by the fundamental principle of matrix multiplication -- valid only if the columns of the first matrix matches the rows of the second"
   ]
  },
  {
   "cell_type": "code",
   "execution_count": null,
   "id": "7be087ff",
   "metadata": {},
   "outputs": [],
   "source": [
    "A * A "
   ]
  },
  {
   "cell_type": "markdown",
   "id": "e74c162a",
   "metadata": {},
   "source": [
    "But why A * A does not work while M * M works?"
   ]
  },
  {
   "cell_type": "markdown",
   "id": "825812bb",
   "metadata": {},
   "source": [
    "It turns out even the element-by-element * operation on **matrices** require the the match of sizes (the subtlety here is that, technically speaking, M is an array, so M * M induces no trouble"
   ]
  },
  {
   "cell_type": "code",
   "execution_count": null,
   "id": "a9c7f52e",
   "metadata": {},
   "outputs": [],
   "source": [
    "A.T * A"
   ]
  },
  {
   "cell_type": "markdown",
   "id": "7fe7504e",
   "metadata": {},
   "source": [
    "## Matrix-vector multiplication (Ax = b)"
   ]
  },
  {
   "cell_type": "markdown",
   "id": "2ae87826",
   "metadata": {},
   "source": [
    "Redefine A"
   ]
  },
  {
   "cell_type": "code",
   "execution_count": null,
   "id": "32255ce0",
   "metadata": {},
   "outputs": [],
   "source": [
    "A = np.matrix([[1, 2, 3], [1, 2, 3], [1, 2, 3]])\n",
    "A"
   ]
  },
  {
   "cell_type": "code",
   "execution_count": null,
   "id": "f8993d06",
   "metadata": {},
   "outputs": [],
   "source": [
    "x1 = np.matrix([[2], [3], [4]])\n",
    "x1"
   ]
  },
  {
   "cell_type": "code",
   "execution_count": null,
   "id": "4e6e6d0b",
   "metadata": {},
   "outputs": [],
   "source": [
    "b = np.dot(A, x)\n",
    "b"
   ]
  },
  {
   "cell_type": "code",
   "execution_count": null,
   "id": "37e67fdd",
   "metadata": {},
   "outputs": [],
   "source": [
    "A * x1"
   ]
  },
  {
   "cell_type": "markdown",
   "id": "01a86aa9",
   "metadata": {},
   "source": [
    "**Hang on! Isn't * an elementwise operator?**"
   ]
  },
  {
   "cell_type": "code",
   "execution_count": null,
   "id": "2fc21a7d",
   "metadata": {},
   "outputs": [],
   "source": [
    "B = np.array([[1, 2, 3], [1, 2, 3], [1, 2, 3]])\n",
    "B"
   ]
  },
  {
   "cell_type": "markdown",
   "id": "77047d19",
   "metadata": {},
   "source": [
    "B is the array representation of A. However, the outcome remains."
   ]
  },
  {
   "cell_type": "code",
   "execution_count": null,
   "id": "50520f72",
   "metadata": {},
   "outputs": [],
   "source": [
    "B * x1"
   ]
  },
  {
   "cell_type": "markdown",
   "id": "d985022e",
   "metadata": {},
   "source": [
    "\n",
    "**Note that x1 is still in matrix representation.** Let's wrap x1's content in array x2 and see if the outcome varies.\n"
   ]
  },
  {
   "cell_type": "code",
   "execution_count": null,
   "id": "dc93165b",
   "metadata": {},
   "outputs": [],
   "source": [
    "x2 = np.array(([[2], [3], [4]]))\n",
    "x2"
   ]
  },
  {
   "cell_type": "markdown",
   "id": "1dc75c99",
   "metadata": {},
   "source": [
    "It does!"
   ]
  },
  {
   "cell_type": "code",
   "execution_count": null,
   "id": "ac5e8402",
   "metadata": {},
   "outputs": [],
   "source": [
    "B * x2"
   ]
  },
  {
   "cell_type": "markdown",
   "id": "0e95766b",
   "metadata": {},
   "source": [
    "Hence, our conclusion is that **binary operation * is done elementwise in array operation while identical to function dot() in matrix operation (as long as one of its arguments is in matrix representation).**"
   ]
  },
  {
   "cell_type": "markdown",
   "id": "b00cf311",
   "metadata": {},
   "source": [
    "## Inverse of matrices\n",
    "We can use [numpy.linalg.inv()](https://www.tutorialspoint.com/numpy/numpy_inv.htm#:~:text=We%20use%20numpy.,it%20results%20in%20identity%20matrix.) to take the inverse of a matrix"
   ]
  },
  {
   "cell_type": "code",
   "execution_count": null,
   "id": "7e7170ac",
   "metadata": {},
   "outputs": [],
   "source": [
    "x = np.array([[1,2],[3,4]]) \n",
    "y = np.linalg.inv(x) \n",
    "print(x)\n",
    "print(y)"
   ]
  },
  {
   "cell_type": "code",
   "execution_count": null,
   "id": "14902001",
   "metadata": {},
   "outputs": [],
   "source": [
    "np.dot(x, y)"
   ]
  },
  {
   "cell_type": "markdown",
   "id": "6340c1d8",
   "metadata": {},
   "source": [
    "## Linear regression\n",
    "Please take a look at Example 1 in Lay's 6.6 Applications to Linear Models"
   ]
  },
  {
   "cell_type": "markdown",
   "id": "74b1ba4b",
   "metadata": {},
   "source": [
    "Here, we would call a function named [linregress(x, y)](https://docs.scipy.org/doc/scipy-0.14.0/reference/generated/scipy.stats.linregress.html) from SciPy library. Here, x is a 1-D vector composed of measurements along x-coordinate (independent variable) while y is a 1-D vector composed of the corresponding measurements of y-coordinate (dependent variable)\n",
    "\n"
   ]
  },
  {
   "cell_type": "code",
   "execution_count": null,
   "id": "19862bc1",
   "metadata": {},
   "outputs": [],
   "source": [
    "x = np.array([2, 5, 7, 8])\n",
    "x"
   ]
  },
  {
   "cell_type": "code",
   "execution_count": null,
   "id": "e2cc445f",
   "metadata": {},
   "outputs": [],
   "source": [
    "y = np.array([1, 2, 3, 3])\n",
    "y"
   ]
  },
  {
   "cell_type": "code",
   "execution_count": null,
   "id": "55704a8d",
   "metadata": {},
   "outputs": [],
   "source": [
    "slope, intercept, r_value, p_value, std_err = stats.linregress(X,y)\n",
    "slope"
   ]
  },
  {
   "cell_type": "code",
   "execution_count": null,
   "id": "0059453a",
   "metadata": {},
   "outputs": [],
   "source": [
    "intercept"
   ]
  },
  {
   "cell_type": "markdown",
   "id": "dee050ce",
   "metadata": {},
   "source": [
    "## Eigenvalues & Eigenvectors"
   ]
  },
  {
   "cell_type": "markdown",
   "id": "e65eba95",
   "metadata": {},
   "source": [
    "While computing eigenvalues and eigenvectors might become a drag in reality, it's fairly easy to use python to do the work for us."
   ]
  },
  {
   "cell_type": "markdown",
   "id": "d467b7fd",
   "metadata": {},
   "source": [
    "We need function [eig()](https://pythonnumericalmethods.berkeley.edu/notebooks/chapter15.04-Eigenvalues-and-Eigenvectors-in-Python.html) from the library numpy.linalg."
   ]
  },
  {
   "cell_type": "code",
   "execution_count": 20,
   "id": "cf42295e",
   "metadata": {},
   "outputs": [],
   "source": [
    "from numpy.linalg import eig"
   ]
  },
  {
   "cell_type": "code",
   "execution_count": 44,
   "id": "fe40e008",
   "metadata": {},
   "outputs": [
    {
     "data": {
      "text/plain": [
       "matrix([[1, 6],\n",
       "        [5, 2]])"
      ]
     },
     "execution_count": 44,
     "metadata": {},
     "output_type": "execute_result"
    }
   ],
   "source": [
    "A = np.matrix([[1, 6], \n",
    "              [5, 2]])\n",
    "A"
   ]
  },
  {
   "cell_type": "code",
   "execution_count": 45,
   "id": "b2e20758",
   "metadata": {},
   "outputs": [],
   "source": [
    "w, v = eig(A)"
   ]
  },
  {
   "cell_type": "markdown",
   "id": "4b4e6ce4",
   "metadata": {},
   "source": [
    "Here w is a collection of eigenvalues while v is a matrix consisting of corresponding eigenvectors."
   ]
  },
  {
   "cell_type": "code",
   "execution_count": 98,
   "id": "0557d892",
   "metadata": {},
   "outputs": [
    {
     "name": "stdout",
     "output_type": "stream",
     "text": [
      "[-3.52493781  6.52493781]\n",
      "[[-0.74145253  0.67100532]\n",
      " [ 0.67100532  0.74145253]]\n"
     ]
    }
   ],
   "source": [
    "print(w)\n",
    "print(v)"
   ]
  },
  {
   "cell_type": "markdown",
   "id": "2e5a7aed",
   "metadata": {},
   "source": [
    "\n",
    "There is a function eigh() specializing in computing **symmetric** matrix. While [eigh() employes a faster algorithm than eig()](https://stackoverflow.com/questions/45434989/numpy-difference-between-linalg-eig-and-linalg-eigh), eigh() could only deal with symmetric matrix. If the input matrix is non-symmetric, its output would be \n",
    "erroneous.\n"
   ]
  },
  {
   "cell_type": "code",
   "execution_count": 42,
   "id": "f67cab0e",
   "metadata": {},
   "outputs": [],
   "source": [
    "from numpy.linalg import eigh"
   ]
  },
  {
   "cell_type": "code",
   "execution_count": 40,
   "id": "8c497516",
   "metadata": {},
   "outputs": [],
   "source": [
    "B = np.matrix([[1, 6],\n",
    "              [6, 2]])"
   ]
  },
  {
   "cell_type": "code",
   "execution_count": 47,
   "id": "ba1139f9",
   "metadata": {},
   "outputs": [
    {
     "data": {
      "text/plain": [
       "(array([-4.52079729,  7.52079729]),\n",
       " matrix([[-0.73588229,  0.67710949],\n",
       "         [ 0.67710949,  0.73588229]]))"
      ]
     },
     "execution_count": 47,
     "metadata": {},
     "output_type": "execute_result"
    }
   ],
   "source": [
    "eigh(B)"
   ]
  },
  {
   "cell_type": "code",
   "execution_count": 50,
   "id": "eb03357b",
   "metadata": {},
   "outputs": [],
   "source": [
    "w, v = eigh(A)"
   ]
  },
  {
   "cell_type": "code",
   "execution_count": 51,
   "id": "c4596720",
   "metadata": {},
   "outputs": [
    {
     "name": "stdout",
     "output_type": "stream",
     "text": [
      "[-3.52493781  6.52493781]\n",
      "[[-0.74145253  0.67100532]\n",
      " [ 0.67100532  0.74145253]]\n"
     ]
    }
   ],
   "source": [
    "print(w)\n",
    "print(v)"
   ]
  },
  {
   "cell_type": "markdown",
   "id": "2080258c",
   "metadata": {},
   "source": [
    "Compare eigh(A) with eig(A) above. The outputs don't match. If we compute by hand, we would see that eig(A) output the correct values."
   ]
  },
  {
   "cell_type": "markdown",
   "id": "f9d215a9",
   "metadata": {},
   "source": [
    "# Descriptive statistics\n",
    "The discipline of statistics has two primary subdivisions **descriptive statistics** and **inferential statistics**. While [descriptive statistics](https://www.investopedia.com/terms/d/descriptive_statistics.asp) solely focuses on the properties of objects, such as variability, [inferential statistics](https://www.scribbr.com/statistics/inferential-statistics) goes a step further -- making predictions based on given data.\n",
    "\n",
    "All statitics-related function can be found here [numpy api reference -- statistics](https://numpy.org/doc/stable/reference/routines.statistics.html)\n"
   ]
  },
  {
   "cell_type": "markdown",
   "id": "f22923c8",
   "metadata": {},
   "source": [
    "However, it's essential to see the big picture within which inferential statistics is situated before even setting out on a journey in inferential statistics. Therefore, to better our understanding, we would start with a few basics functions in descriptive statistics here."
   ]
  },
  {
   "cell_type": "markdown",
   "id": "11f6e713",
   "metadata": {},
   "source": [
    "## Mean"
   ]
  },
  {
   "cell_type": "markdown",
   "id": "9f209780",
   "metadata": {},
   "source": [
    "[mean(matrix, axis)](https://www.geeksforgeeks.org/numpy-mean-in-python/) takes a matrix of any size and outputs means of specified axis. axis = 1 means taking means along all the rows, while axis = 0 means taking means of all the columns. If no axis is given, the function assumes the input array as a 1-D array and takes the mean of all elements.\n"
   ]
  },
  {
   "cell_type": "code",
   "execution_count": 63,
   "id": "fd73bad1",
   "metadata": {},
   "outputs": [
    {
     "data": {
      "text/plain": [
       "matrix([[1, 6],\n",
       "        [5, 2]])"
      ]
     },
     "execution_count": 63,
     "metadata": {},
     "output_type": "execute_result"
    }
   ],
   "source": [
    "A"
   ]
  },
  {
   "cell_type": "code",
   "execution_count": 56,
   "id": "424e36e6",
   "metadata": {},
   "outputs": [
    {
     "data": {
      "text/plain": [
       "matrix([[3.5],\n",
       "        [3.5]])"
      ]
     },
     "execution_count": 56,
     "metadata": {},
     "output_type": "execute_result"
    }
   ],
   "source": [
    "np.mean(A, 1)"
   ]
  },
  {
   "cell_type": "code",
   "execution_count": 64,
   "id": "427045fb",
   "metadata": {},
   "outputs": [
    {
     "data": {
      "text/plain": [
       "matrix([[3., 4.]])"
      ]
     },
     "execution_count": 64,
     "metadata": {},
     "output_type": "execute_result"
    }
   ],
   "source": [
    "np.mean(A, 0)"
   ]
  },
  {
   "cell_type": "code",
   "execution_count": 65,
   "id": "b37d68a2",
   "metadata": {},
   "outputs": [
    {
     "data": {
      "text/plain": [
       "matrix([[1, 6],\n",
       "        [6, 2]])"
      ]
     },
     "execution_count": 65,
     "metadata": {},
     "output_type": "execute_result"
    }
   ],
   "source": [
    "B"
   ]
  },
  {
   "cell_type": "code",
   "execution_count": 66,
   "id": "5c15768d",
   "metadata": {},
   "outputs": [
    {
     "data": {
      "text/plain": [
       "3.75"
      ]
     },
     "execution_count": 66,
     "metadata": {},
     "output_type": "execute_result"
    }
   ],
   "source": [
    "np.mean(B)"
   ]
  },
  {
   "cell_type": "markdown",
   "id": "36de016f",
   "metadata": {},
   "source": [
    "## Variance"
   ]
  },
  {
   "cell_type": "markdown",
   "id": "a4f24460",
   "metadata": {},
   "source": [
    "The specification of [var(matrix, axis)](https://www.geeksforgeeks.org/numpy-var-in-python/) is the almost the same as the above for mean. It takes a matrix of any size and outputs means of specified axis. axis = 1 means taking means along all the rows, while axis = 0 means taking means of all the columns. If no axis is given, the function assumes the input array as a 1-D array and takes the mean of all elements.\n",
    " "
   ]
  },
  {
   "cell_type": "code",
   "execution_count": 71,
   "id": "d53d4d66",
   "metadata": {},
   "outputs": [
    {
     "data": {
      "text/plain": [
       "matrix([[1, 6],\n",
       "        [5, 2]])"
      ]
     },
     "execution_count": 71,
     "metadata": {},
     "output_type": "execute_result"
    }
   ],
   "source": [
    "A"
   ]
  },
  {
   "cell_type": "code",
   "execution_count": 73,
   "id": "f5fcd311",
   "metadata": {},
   "outputs": [
    {
     "data": {
      "text/plain": [
       "matrix([[6.25],\n",
       "        [2.25]])"
      ]
     },
     "execution_count": 73,
     "metadata": {},
     "output_type": "execute_result"
    }
   ],
   "source": [
    "np.var(A, 1)"
   ]
  },
  {
   "cell_type": "code",
   "execution_count": 75,
   "id": "18afc1d0",
   "metadata": {},
   "outputs": [
    {
     "data": {
      "text/plain": [
       "matrix([[4., 4.]])"
      ]
     },
     "execution_count": 75,
     "metadata": {},
     "output_type": "execute_result"
    }
   ],
   "source": [
    "np.var(A, 0)"
   ]
  },
  {
   "cell_type": "code",
   "execution_count": 77,
   "id": "84bc1d64",
   "metadata": {},
   "outputs": [
    {
     "data": {
      "text/plain": [
       "4.25"
      ]
     },
     "execution_count": 77,
     "metadata": {},
     "output_type": "execute_result"
    }
   ],
   "source": [
    "np.var(A)"
   ]
  },
  {
   "cell_type": "markdown",
   "id": "9eea0aa9",
   "metadata": {},
   "source": [
    "## Standard Deviation\n"
   ]
  },
  {
   "cell_type": "markdown",
   "id": "3b2e2072",
   "metadata": {},
   "source": [
    "Again, the specification of [std(matrix, axis)](https://www.geeksforgeeks.org/numpy-var-in-python/) is the almost the same as the above for mean. It takes a matrix of any size and outputs means of specified axis. axis = 1 means taking means along all the rows, while axis = 0 means taking means of all the columns. If no axis is given, the function assumes the input array as a 1-D array and takes the mean of all elements."
   ]
  },
  {
   "cell_type": "code",
   "execution_count": 79,
   "id": "e7cb1a75",
   "metadata": {},
   "outputs": [
    {
     "data": {
      "text/plain": [
       "matrix([[1, 6],\n",
       "        [5, 2]])"
      ]
     },
     "execution_count": 79,
     "metadata": {},
     "output_type": "execute_result"
    }
   ],
   "source": [
    "A"
   ]
  },
  {
   "cell_type": "code",
   "execution_count": 82,
   "id": "a7216336",
   "metadata": {},
   "outputs": [
    {
     "data": {
      "text/plain": [
       "matrix([[2.5],\n",
       "        [1.5]])"
      ]
     },
     "execution_count": 82,
     "metadata": {},
     "output_type": "execute_result"
    }
   ],
   "source": [
    "np.std(A, 1)"
   ]
  },
  {
   "cell_type": "code",
   "execution_count": 81,
   "id": "95823517",
   "metadata": {},
   "outputs": [
    {
     "data": {
      "text/plain": [
       "matrix([[2., 2.]])"
      ]
     },
     "execution_count": 81,
     "metadata": {},
     "output_type": "execute_result"
    }
   ],
   "source": [
    "np.std(A, 0)"
   ]
  },
  {
   "cell_type": "code",
   "execution_count": 84,
   "id": "912ba558",
   "metadata": {},
   "outputs": [
    {
     "data": {
      "text/plain": [
       "2.0615528128088303"
      ]
     },
     "execution_count": 84,
     "metadata": {},
     "output_type": "execute_result"
    }
   ],
   "source": [
    "np.std(A)"
   ]
  },
  {
   "cell_type": "markdown",
   "id": "defef82a",
   "metadata": {},
   "source": [
    "## Covariance"
   ]
  },
  {
   "cell_type": "markdown",
   "id": "e7f5a0de",
   "metadata": {},
   "source": [
    "[numpy.cov(A)](https://www.geeksforgeeks.org/python-numpy-cov-function/) is quite a handy tool to compute covariance matrix A."
   ]
  },
  {
   "cell_type": "code",
   "execution_count": 96,
   "id": "7708b0e0",
   "metadata": {},
   "outputs": [
    {
     "data": {
      "text/plain": [
       "matrix([[-4, -1,  2,  3],\n",
       "        [-2, -2,  4,  0],\n",
       "        [-4,  8, -4,  0]])"
      ]
     },
     "execution_count": 96,
     "metadata": {},
     "output_type": "execute_result"
    }
   ],
   "source": [
    "A = np.matrix([[-4, -1, 2, 3], [-2, -2, 4, 0], [-4, 8, -4, 0]])\n",
    "A"
   ]
  },
  {
   "cell_type": "code",
   "execution_count": 97,
   "id": "3222ba73",
   "metadata": {},
   "outputs": [
    {
     "data": {
      "text/plain": [
       "array([[10.,  6.,  0.],\n",
       "       [ 6.,  8., -8.],\n",
       "       [ 0., -8., 32.]])"
      ]
     },
     "execution_count": 97,
     "metadata": {},
     "output_type": "execute_result"
    }
   ],
   "source": [
    "np.cov(A)"
   ]
  },
  {
   "cell_type": "markdown",
   "id": "c622b312",
   "metadata": {},
   "source": [
    "Those are all that we would practice in this document. However, many more functions are involved in [statistical computing](https://numpy.org/doc/stable/reference/routines.statistics.html). Please practice more on your own if you have time!"
   ]
  }
 ],
 "metadata": {
  "kernelspec": {
   "display_name": "Python 3 (ipykernel)",
   "language": "python",
   "name": "python3"
  },
  "language_info": {
   "codemirror_mode": {
    "name": "ipython",
    "version": 3
   },
   "file_extension": ".py",
   "mimetype": "text/x-python",
   "name": "python",
   "nbconvert_exporter": "python",
   "pygments_lexer": "ipython3",
   "version": "3.9.7"
  },
  "toc": {
   "base_numbering": 1,
   "nav_menu": {},
   "number_sections": true,
   "sideBar": true,
   "skip_h1_title": false,
   "title_cell": "Table of Contents",
   "title_sidebar": "Contents",
   "toc_cell": false,
   "toc_position": {
    "height": "calc(100% - 180px)",
    "left": "10px",
    "top": "150px",
    "width": "384px"
   },
   "toc_section_display": true,
   "toc_window_display": true
  }
 },
 "nbformat": 4,
 "nbformat_minor": 5
}
